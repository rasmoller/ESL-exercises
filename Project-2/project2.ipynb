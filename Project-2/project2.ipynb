{
 "cells": [
  {
   "cell_type": "code",
   "execution_count": 10,
   "metadata": {},
   "outputs": [
    {
     "name": "stderr",
     "output_type": "stream",
     "text": [
      "/usr/local/Caskroom/miniforge/base/lib/python3.10/pty.py:89: RuntimeWarning: os.fork() was called. os.fork() is incompatible with multithreaded code, and JAX is multithreaded, so this will likely lead to a deadlock.\n",
      "  pid, fd = os.forkpty()\n"
     ]
    },
    {
     "name": "stdout",
     "output_type": "stream",
     "text": [
      "Collecting git+https://github.com/carnotresearch/cr-sparse.git\n",
      "  Cloning https://github.com/carnotresearch/cr-sparse.git to /private/var/folders/3r/v0kpycs97914_12gzf1trl4r0000gp/T/pip-req-build-feevamzf\n",
      "  Running command git clone --filter=blob:none --quiet https://github.com/carnotresearch/cr-sparse.git /private/var/folders/3r/v0kpycs97914_12gzf1trl4r0000gp/T/pip-req-build-feevamzf\n",
      "  Resolved https://github.com/carnotresearch/cr-sparse.git to commit be3c74a96df671d86ea24ee5d029da5d07fa2512\n",
      "  Preparing metadata (setup.py) ... \u001b[?25ldone\n",
      "\u001b[?25hRequirement already satisfied: cr-nimble>=0.4.0 in /Users/bipu/Desktop/ESL-exercises/env/lib/python3.10/site-packages (from cr-sparse==0.4.0) (0.4.0)\n",
      "Requirement already satisfied: cr-wavelets>=0.4.0 in /Users/bipu/Desktop/ESL-exercises/env/lib/python3.10/site-packages (from cr-sparse==0.4.0) (0.4.0)\n",
      "Requirement already satisfied: pandas>=2.0 in /Users/bipu/Desktop/ESL-exercises/env/lib/python3.10/site-packages (from cr-nimble>=0.4.0->cr-sparse==0.4.0) (2.2.3)\n",
      "Requirement already satisfied: jax>=0.4.3 in /Users/bipu/Desktop/ESL-exercises/env/lib/python3.10/site-packages (from cr-nimble>=0.4.0->cr-sparse==0.4.0) (0.4.38)\n",
      "Requirement already satisfied: scipy>=1.10 in /Users/bipu/Desktop/ESL-exercises/env/lib/python3.10/site-packages (from cr-nimble>=0.4.0->cr-sparse==0.4.0) (1.15.1)\n",
      "Requirement already satisfied: sympy>=1.12 in /Users/bipu/Desktop/ESL-exercises/env/lib/python3.10/site-packages (from cr-nimble>=0.4.0->cr-sparse==0.4.0) (1.13.3)\n",
      "Requirement already satisfied: bitarray>=2.8 in /Users/bipu/Desktop/ESL-exercises/env/lib/python3.10/site-packages (from cr-nimble>=0.4.0->cr-sparse==0.4.0) (3.3.1)\n",
      "Requirement already satisfied: numpy>=1.24 in /Users/bipu/Desktop/ESL-exercises/env/lib/python3.10/site-packages (from cr-nimble>=0.4.0->cr-sparse==0.4.0) (2.1.3)\n",
      "Requirement already satisfied: requests>=2.31 in /Users/bipu/Desktop/ESL-exercises/env/lib/python3.10/site-packages (from cr-nimble>=0.4.0->cr-sparse==0.4.0) (2.32.3)\n",
      "Requirement already satisfied: matplotlib>=3.7 in /Users/bipu/Desktop/ESL-exercises/env/lib/python3.10/site-packages (from cr-nimble>=0.4.0->cr-sparse==0.4.0) (3.10.0)\n",
      "Requirement already satisfied: jaxlib>=0.4.3 in /Users/bipu/Desktop/ESL-exercises/env/lib/python3.10/site-packages (from cr-nimble>=0.4.0->cr-sparse==0.4.0) (0.4.38)\n",
      "Requirement already satisfied: click>=8.1 in /Users/bipu/Desktop/ESL-exercises/env/lib/python3.10/site-packages (from cr-wavelets>=0.4.0->cr-sparse==0.4.0) (8.1.8)\n",
      "Requirement already satisfied: imageio>=2.31 in /Users/bipu/Desktop/ESL-exercises/env/lib/python3.10/site-packages (from cr-wavelets>=0.4.0->cr-sparse==0.4.0) (2.37.0)\n",
      "Requirement already satisfied: chex>=0.1.7 in /Users/bipu/Desktop/ESL-exercises/env/lib/python3.10/site-packages (from cr-wavelets>=0.4.0->cr-sparse==0.4.0) (0.1.89)\n",
      "Requirement already satisfied: toolz>=0.9.0 in /Users/bipu/Desktop/ESL-exercises/env/lib/python3.10/site-packages (from chex>=0.1.7->cr-wavelets>=0.4.0->cr-sparse==0.4.0) (1.0.0)\n",
      "Requirement already satisfied: absl-py>=0.9.0 in /Users/bipu/Desktop/ESL-exercises/env/lib/python3.10/site-packages (from chex>=0.1.7->cr-wavelets>=0.4.0->cr-sparse==0.4.0) (2.2.2)\n",
      "Requirement already satisfied: typing_extensions>=4.2.0 in /Users/bipu/Desktop/ESL-exercises/env/lib/python3.10/site-packages (from chex>=0.1.7->cr-wavelets>=0.4.0->cr-sparse==0.4.0) (4.12.2)\n",
      "Requirement already satisfied: pillow>=8.3.2 in /Users/bipu/Desktop/ESL-exercises/env/lib/python3.10/site-packages (from imageio>=2.31->cr-wavelets>=0.4.0->cr-sparse==0.4.0) (11.1.0)\n",
      "Requirement already satisfied: opt_einsum in /Users/bipu/Desktop/ESL-exercises/env/lib/python3.10/site-packages (from jax>=0.4.3->cr-nimble>=0.4.0->cr-sparse==0.4.0) (3.4.0)\n",
      "Requirement already satisfied: ml_dtypes>=0.4.0 in /Users/bipu/Desktop/ESL-exercises/env/lib/python3.10/site-packages (from jax>=0.4.3->cr-nimble>=0.4.0->cr-sparse==0.4.0) (0.5.1)\n",
      "Requirement already satisfied: kiwisolver>=1.3.1 in /Users/bipu/Desktop/ESL-exercises/env/lib/python3.10/site-packages (from matplotlib>=3.7->cr-nimble>=0.4.0->cr-sparse==0.4.0) (1.4.8)\n",
      "Requirement already satisfied: cycler>=0.10 in /Users/bipu/Desktop/ESL-exercises/env/lib/python3.10/site-packages (from matplotlib>=3.7->cr-nimble>=0.4.0->cr-sparse==0.4.0) (0.12.1)\n",
      "Requirement already satisfied: packaging>=20.0 in /Users/bipu/Desktop/ESL-exercises/env/lib/python3.10/site-packages (from matplotlib>=3.7->cr-nimble>=0.4.0->cr-sparse==0.4.0) (24.2)\n",
      "Requirement already satisfied: contourpy>=1.0.1 in /Users/bipu/Desktop/ESL-exercises/env/lib/python3.10/site-packages (from matplotlib>=3.7->cr-nimble>=0.4.0->cr-sparse==0.4.0) (1.3.1)\n",
      "Requirement already satisfied: pyparsing>=2.3.1 in /Users/bipu/Desktop/ESL-exercises/env/lib/python3.10/site-packages (from matplotlib>=3.7->cr-nimble>=0.4.0->cr-sparse==0.4.0) (3.2.1)\n",
      "Requirement already satisfied: python-dateutil>=2.7 in /Users/bipu/Desktop/ESL-exercises/env/lib/python3.10/site-packages (from matplotlib>=3.7->cr-nimble>=0.4.0->cr-sparse==0.4.0) (2.9.0.post0)\n",
      "Requirement already satisfied: fonttools>=4.22.0 in /Users/bipu/Desktop/ESL-exercises/env/lib/python3.10/site-packages (from matplotlib>=3.7->cr-nimble>=0.4.0->cr-sparse==0.4.0) (4.55.8)\n",
      "Requirement already satisfied: pytz>=2020.1 in /Users/bipu/Desktop/ESL-exercises/env/lib/python3.10/site-packages (from pandas>=2.0->cr-nimble>=0.4.0->cr-sparse==0.4.0) (2025.1)\n",
      "Requirement already satisfied: tzdata>=2022.7 in /Users/bipu/Desktop/ESL-exercises/env/lib/python3.10/site-packages (from pandas>=2.0->cr-nimble>=0.4.0->cr-sparse==0.4.0) (2025.1)\n",
      "Requirement already satisfied: idna<4,>=2.5 in /Users/bipu/Desktop/ESL-exercises/env/lib/python3.10/site-packages (from requests>=2.31->cr-nimble>=0.4.0->cr-sparse==0.4.0) (3.10)\n",
      "Requirement already satisfied: certifi>=2017.4.17 in /Users/bipu/Desktop/ESL-exercises/env/lib/python3.10/site-packages (from requests>=2.31->cr-nimble>=0.4.0->cr-sparse==0.4.0) (2025.1.31)\n",
      "Requirement already satisfied: urllib3<3,>=1.21.1 in /Users/bipu/Desktop/ESL-exercises/env/lib/python3.10/site-packages (from requests>=2.31->cr-nimble>=0.4.0->cr-sparse==0.4.0) (2.3.0)\n",
      "Requirement already satisfied: charset-normalizer<4,>=2 in /Users/bipu/Desktop/ESL-exercises/env/lib/python3.10/site-packages (from requests>=2.31->cr-nimble>=0.4.0->cr-sparse==0.4.0) (3.4.1)\n",
      "Requirement already satisfied: mpmath<1.4,>=1.1.0 in /Users/bipu/Desktop/ESL-exercises/env/lib/python3.10/site-packages (from sympy>=1.12->cr-nimble>=0.4.0->cr-sparse==0.4.0) (1.3.0)\n",
      "Requirement already satisfied: six>=1.5 in /Users/bipu/Desktop/ESL-exercises/env/lib/python3.10/site-packages (from python-dateutil>=2.7->matplotlib>=3.7->cr-nimble>=0.4.0->cr-sparse==0.4.0) (1.17.0)\n",
      "\n",
      "\u001b[1m[\u001b[0m\u001b[34;49mnotice\u001b[0m\u001b[1;39;49m]\u001b[0m\u001b[39;49m A new release of pip available: \u001b[0m\u001b[31;49m22.2.1\u001b[0m\u001b[39;49m -> \u001b[0m\u001b[32;49m25.0.1\u001b[0m\n",
      "\u001b[1m[\u001b[0m\u001b[34;49mnotice\u001b[0m\u001b[1;39;49m]\u001b[0m\u001b[39;49m To update, run: \u001b[0m\u001b[32;49mpip install --upgrade pip\u001b[0m\n",
      "Requirement already satisfied: jax in /Users/bipu/Desktop/ESL-exercises/env/lib/python3.10/site-packages (0.4.38)\n",
      "Requirement already satisfied: jaxlib in /Users/bipu/Desktop/ESL-exercises/env/lib/python3.10/site-packages (0.4.38)\n",
      "Requirement already satisfied: librosa in /Users/bipu/Desktop/ESL-exercises/env/lib/python3.10/site-packages (0.11.0)\n",
      "Requirement already satisfied: matplotlib in /Users/bipu/Desktop/ESL-exercises/env/lib/python3.10/site-packages (3.10.0)\n",
      "Requirement already satisfied: ml_dtypes>=0.4.0 in /Users/bipu/Desktop/ESL-exercises/env/lib/python3.10/site-packages (from jax) (0.5.1)\n",
      "Requirement already satisfied: numpy>=1.24 in /Users/bipu/Desktop/ESL-exercises/env/lib/python3.10/site-packages (from jax) (2.1.3)\n",
      "Requirement already satisfied: opt_einsum in /Users/bipu/Desktop/ESL-exercises/env/lib/python3.10/site-packages (from jax) (3.4.0)\n",
      "Requirement already satisfied: scipy>=1.10 in /Users/bipu/Desktop/ESL-exercises/env/lib/python3.10/site-packages (from jax) (1.15.1)\n",
      "Requirement already satisfied: soundfile>=0.12.1 in /Users/bipu/Desktop/ESL-exercises/env/lib/python3.10/site-packages (from librosa) (0.13.1)\n",
      "Requirement already satisfied: joblib>=1.0 in /Users/bipu/Desktop/ESL-exercises/env/lib/python3.10/site-packages (from librosa) (1.4.2)\n",
      "Requirement already satisfied: msgpack>=1.0 in /Users/bipu/Desktop/ESL-exercises/env/lib/python3.10/site-packages (from librosa) (1.1.0)\n",
      "Requirement already satisfied: scikit-learn>=1.1.0 in /Users/bipu/Desktop/ESL-exercises/env/lib/python3.10/site-packages (from librosa) (1.6.1)\n",
      "Requirement already satisfied: decorator>=4.3.0 in /Users/bipu/Desktop/ESL-exercises/env/lib/python3.10/site-packages (from librosa) (5.1.1)\n",
      "Requirement already satisfied: lazy_loader>=0.1 in /Users/bipu/Desktop/ESL-exercises/env/lib/python3.10/site-packages (from librosa) (0.4)\n",
      "Requirement already satisfied: typing_extensions>=4.1.1 in /Users/bipu/Desktop/ESL-exercises/env/lib/python3.10/site-packages (from librosa) (4.12.2)\n",
      "Requirement already satisfied: numba>=0.51.0 in /Users/bipu/Desktop/ESL-exercises/env/lib/python3.10/site-packages (from librosa) (0.61.0)\n",
      "Requirement already satisfied: pooch>=1.1 in /Users/bipu/Desktop/ESL-exercises/env/lib/python3.10/site-packages (from librosa) (1.8.2)\n",
      "Requirement already satisfied: audioread>=2.1.9 in /Users/bipu/Desktop/ESL-exercises/env/lib/python3.10/site-packages (from librosa) (3.0.1)\n",
      "Requirement already satisfied: soxr>=0.3.2 in /Users/bipu/Desktop/ESL-exercises/env/lib/python3.10/site-packages (from librosa) (0.5.0.post1)\n",
      "Requirement already satisfied: python-dateutil>=2.7 in /Users/bipu/Desktop/ESL-exercises/env/lib/python3.10/site-packages (from matplotlib) (2.9.0.post0)\n",
      "Requirement already satisfied: kiwisolver>=1.3.1 in /Users/bipu/Desktop/ESL-exercises/env/lib/python3.10/site-packages (from matplotlib) (1.4.8)\n",
      "Requirement already satisfied: packaging>=20.0 in /Users/bipu/Desktop/ESL-exercises/env/lib/python3.10/site-packages (from matplotlib) (24.2)\n",
      "Requirement already satisfied: fonttools>=4.22.0 in /Users/bipu/Desktop/ESL-exercises/env/lib/python3.10/site-packages (from matplotlib) (4.55.8)\n",
      "Requirement already satisfied: pillow>=8 in /Users/bipu/Desktop/ESL-exercises/env/lib/python3.10/site-packages (from matplotlib) (11.1.0)\n",
      "Requirement already satisfied: pyparsing>=2.3.1 in /Users/bipu/Desktop/ESL-exercises/env/lib/python3.10/site-packages (from matplotlib) (3.2.1)\n",
      "Requirement already satisfied: contourpy>=1.0.1 in /Users/bipu/Desktop/ESL-exercises/env/lib/python3.10/site-packages (from matplotlib) (1.3.1)\n",
      "Requirement already satisfied: cycler>=0.10 in /Users/bipu/Desktop/ESL-exercises/env/lib/python3.10/site-packages (from matplotlib) (0.12.1)\n",
      "Requirement already satisfied: llvmlite<0.45,>=0.44.0dev0 in /Users/bipu/Desktop/ESL-exercises/env/lib/python3.10/site-packages (from numba>=0.51.0->librosa) (0.44.0)\n",
      "Requirement already satisfied: platformdirs>=2.5.0 in /Users/bipu/Desktop/ESL-exercises/env/lib/python3.10/site-packages (from pooch>=1.1->librosa) (4.3.6)\n",
      "Requirement already satisfied: requests>=2.19.0 in /Users/bipu/Desktop/ESL-exercises/env/lib/python3.10/site-packages (from pooch>=1.1->librosa) (2.32.3)\n",
      "Requirement already satisfied: six>=1.5 in /Users/bipu/Desktop/ESL-exercises/env/lib/python3.10/site-packages (from python-dateutil>=2.7->matplotlib) (1.17.0)\n",
      "Requirement already satisfied: threadpoolctl>=3.1.0 in /Users/bipu/Desktop/ESL-exercises/env/lib/python3.10/site-packages (from scikit-learn>=1.1.0->librosa) (3.5.0)\n",
      "Requirement already satisfied: cffi>=1.0 in /Users/bipu/Desktop/ESL-exercises/env/lib/python3.10/site-packages (from soundfile>=0.12.1->librosa) (1.17.1)\n",
      "Requirement already satisfied: pycparser in /Users/bipu/Desktop/ESL-exercises/env/lib/python3.10/site-packages (from cffi>=1.0->soundfile>=0.12.1->librosa) (2.22)\n",
      "Requirement already satisfied: charset-normalizer<4,>=2 in /Users/bipu/Desktop/ESL-exercises/env/lib/python3.10/site-packages (from requests>=2.19.0->pooch>=1.1->librosa) (3.4.1)\n",
      "Requirement already satisfied: urllib3<3,>=1.21.1 in /Users/bipu/Desktop/ESL-exercises/env/lib/python3.10/site-packages (from requests>=2.19.0->pooch>=1.1->librosa) (2.3.0)\n",
      "Requirement already satisfied: certifi>=2017.4.17 in /Users/bipu/Desktop/ESL-exercises/env/lib/python3.10/site-packages (from requests>=2.19.0->pooch>=1.1->librosa) (2025.1.31)\n",
      "Requirement already satisfied: idna<4,>=2.5 in /Users/bipu/Desktop/ESL-exercises/env/lib/python3.10/site-packages (from requests>=2.19.0->pooch>=1.1->librosa) (3.10)\n",
      "\n",
      "\u001b[1m[\u001b[0m\u001b[34;49mnotice\u001b[0m\u001b[1;39;49m]\u001b[0m\u001b[39;49m A new release of pip available: \u001b[0m\u001b[31;49m22.2.1\u001b[0m\u001b[39;49m -> \u001b[0m\u001b[32;49m25.0.1\u001b[0m\n",
      "\u001b[1m[\u001b[0m\u001b[34;49mnotice\u001b[0m\u001b[1;39;49m]\u001b[0m\u001b[39;49m To update, run: \u001b[0m\u001b[32;49mpip install --upgrade pip\u001b[0m\n"
     ]
    }
   ],
   "source": [
    "!pip install git+https://github.com/carnotresearch/cr-sparse.git\n",
    "!pip install jax jaxlib librosa matplotlib\n"
   ]
  },
  {
   "cell_type": "code",
   "execution_count": 11,
   "metadata": {},
   "outputs": [
    {
     "name": "stdout",
     "output_type": "stream",
     "text": [
      "Loaded 10 signals\n"
     ]
    }
   ],
   "source": [
    "# Read and process audios\n",
    "import os\n",
    "import librosa\n",
    "import jax.numpy as jnp\n",
    "\n",
    "folder = \"./dataset/test_data\"\n",
    "sample_length = 256  # Must match dictionary size\n",
    "\n",
    "signals = []\n",
    "\n",
    "for file in os.listdir(folder):\n",
    "    if file.endswith(\".wav\"):\n",
    "        y, sr = librosa.load(os.path.join(folder, file), sr=None)\n",
    "        if len(y) >= sample_length:\n",
    "            y = y[:sample_length]  # Take the first 256 samples\n",
    "            signals.append(jnp.array(y))\n",
    "\n",
    "print(f\"Loaded {len(signals)} signals\")"
   ]
  },
  {
   "cell_type": "code",
   "execution_count": 12,
   "metadata": {},
   "outputs": [],
   "source": [
    "#  Construct the Dirac-Cosine dictionary\n",
    "import cr.sparse.dict as crdict\n",
    "\n",
    "M = sample_length  # dimension of signal\n",
    "Phi = crdict.dirac_cosine_basis(M)  # shape: (256, 512)"
   ]
  },
  {
   "cell_type": "code",
   "execution_count": 22,
   "metadata": {},
   "outputs": [
    {
     "data": {
      "text/plain": [
       "Array([[ 1.0000000e+00,  0.0000000e+00,  0.0000000e+00, ...,\n",
       "         6.2500000e-02,  6.2500000e-02,  6.2500000e-02],\n",
       "       [ 0.0000000e+00,  1.0000000e+00,  0.0000000e+00, ...,\n",
       "        -8.8346757e-02, -8.8373378e-02, -8.8386685e-02],\n",
       "       [ 0.0000000e+00,  0.0000000e+00,  1.0000000e+00, ...,\n",
       "         8.8222012e-02,  8.8328458e-02,  8.8381693e-02],\n",
       "       ...,\n",
       "       [ 0.0000000e+00,  0.0000000e+00,  0.0000000e+00, ...,\n",
       "        -8.1215175e-03,  4.8782388e-03, -1.6283562e-03],\n",
       "       [ 0.0000000e+00,  0.0000000e+00,  0.0000000e+00, ...,\n",
       "         5.4221796e-03, -3.2515426e-03,  1.0843338e-03],\n",
       "       [ 0.0000000e+00,  0.0000000e+00,  0.0000000e+00, ...,\n",
       "        -2.7123697e-03,  1.6291405e-03, -5.4566615e-04]], dtype=float32)"
      ]
     },
     "execution_count": 22,
     "metadata": {},
     "output_type": "execute_result"
    }
   ],
   "source": [
    "Phi"
   ]
  },
  {
   "cell_type": "code",
   "execution_count": 20,
   "metadata": {},
   "outputs": [],
   "source": [
    "# Sparse recovery with Orthogonal Matching Pursuit (OMP)\n",
    "from cr.sparse import opt\n",
    "import cr.sparse.pursuit.omp\n",
    "\n",
    "# Sparsity level\n",
    "K = 5  # Adjust depending on your signal\n",
    "\n",
    "# Solve the sparse recovery problem using Orthogonal Matching Pursuit\n",
    "solution = cr.sparse.pursuit.omp.solve(Phi, y, K)\n",
    "\n",
    "# Reconstruct the sparse vector x_hat manually from indices and values\n",
    "x_hat = jnp.zeros(Phi.shape[1])\n",
    "x_hat = x_hat.at[solution.I].set(solution.x_I)"
   ]
  },
  {
   "cell_type": "code",
   "execution_count": 21,
   "metadata": {},
   "outputs": [
    {
     "name": "stdout",
     "output_type": "stream",
     "text": [
      "Residual energy: nan\n"
     ]
    },
    {
     "data": {
      "image/png": "[encoded data removed]",
      "text/plain": [
       "<Figure size 1200x400 with 1 Axes>"
      ]
     },
     "metadata": {},
     "output_type": "display_data"
    }
   ],
   "source": [
    "import matplotlib.pyplot as plt\n",
    "\n",
    "# Reconstruct the signal\n",
    "y_hat = Phi @ x_hat\n",
    "\n",
    "# Calculate residual energy\n",
    "residual_energy = jnp.sum((y - y_hat) ** 2)\n",
    "print(f\"Residual energy: {residual_energy:.4f}\")\n",
    "\n",
    "# Plot original and reconstructed signals\n",
    "plt.figure(figsize=(12, 4))\n",
    "plt.stem(y, label='Original Signal', markerfmt='bo', basefmt=\" \", linefmt='b-')\n",
    "plt.stem(y_hat, label='Reconstructed Signal', markerfmt='rx', basefmt=\" \", linefmt='r--')\n",
    "plt.title('Original vs Reconstructed Signal')\n",
    "plt.legend()\n",
    "plt.show()"
   ]
  },
  {
   "cell_type": "code",
   "execution_count": 23,
   "metadata": {},
   "outputs": [],
   "source": [
    "import librosa\n",
    "import numpy as np\n",
    "import matplotlib.pyplot as plt\n",
    "from sklearn.decomposition import SparseCoder\n",
    "\n",
    "# Load the audio file\n",
    "y, sr = librosa.load('./dataset/train_data/1727.wav', sr=None, offset=10, duration=5)\n",
    "\n",
    "# Perform Short-Time Fourier Transform (STFT)\n",
    "D = librosa.stft(y)\n",
    "magnitude, phase = librosa.magphase(D)\n"
   ]
  },
  {
   "cell_type": "code",
   "execution_count": 24,
   "metadata": {},
   "outputs": [
    {
     "data": {
      "text/plain": [
       "array([[-7.0354617e-01+0.0000000e+00j, -5.1285541e-01+0.0000000e+00j,\n",
       "        -7.9868592e-02+0.0000000e+00j, ...,\n",
       "        -3.2474209e-02+0.0000000e+00j, -8.1615396e-02+0.0000000e+00j,\n",
       "        -3.9822617e-01+0.0000000e+00j],\n",
       "       [ 6.4217323e-01-2.9514354e-01j,  7.3791407e-02+5.2056628e-01j,\n",
       "         7.2856672e-02-4.1276600e-02j, ...,\n",
       "         5.5255987e-02-8.4154353e-02j,  3.9821889e-02+2.9827166e-02j,\n",
       "        -1.3055943e-01-3.2399780e-01j],\n",
       "       [-6.5797138e-01+8.2958025e-01j,  4.7373620e-01-4.7019273e-01j,\n",
       "        -4.1003767e-01+2.4665999e-01j, ...,\n",
       "        -1.7636197e+00-1.0316133e+00j, -1.0624297e+00+1.6282001e+00j,\n",
       "         1.9018898e+00+7.8874630e-01j],\n",
       "       ...,\n",
       "       [ 1.5308753e-03-8.1962564e-05j, -5.4689933e-04+2.7946979e-04j,\n",
       "        -3.9869893e-04-1.6337550e-04j, ...,\n",
       "        -9.9908058e-05-4.3355256e-05j,  1.0948020e-04-3.7072608e-04j,\n",
       "        -1.4051838e-03+2.5289485e-03j],\n",
       "       [-1.5618457e-03-1.0616961e-04j, -3.3763773e-04+6.6903222e-04j,\n",
       "        -1.0663891e-04+8.3561572e-05j, ...,\n",
       "        -1.1727660e-04+2.2416133e-04j,  3.2431824e-04+3.0492060e-05j,\n",
       "        -1.2503475e-03-2.5017506e-03j],\n",
       "       [ 1.7182257e-03+0.0000000e+00j,  1.1569421e-03+0.0000000e+00j,\n",
       "         3.9753632e-04+0.0000000e+00j, ...,\n",
       "         2.7089397e-04+0.0000000e+00j,  1.2986302e-04+0.0000000e+00j,\n",
       "         2.5919976e-03+0.0000000e+00j]], dtype=complex64)"
      ]
     },
     "execution_count": 24,
     "metadata": {},
     "output_type": "execute_result"
    }
   ],
   "source": [
    "D"
   ]
  },
  {
   "cell_type": "code",
   "execution_count": 25,
   "metadata": {},
   "outputs": [
    {
     "data": {
      "text/plain": [
       "(array([ 0.00180054, -0.00109863, -0.00439453, ..., -0.00701904,\n",
       "        -0.00735474, -0.00753784], dtype=float32),\n",
       " 44100)"
      ]
     },
     "execution_count": 25,
     "metadata": {},
     "output_type": "execute_result"
    }
   ],
   "source": [
    "y, sr"
   ]
  },
  {
   "cell_type": "code",
   "execution_count": 26,
   "metadata": {},
   "outputs": [
    {
     "data": {
      "text/plain": [
       "(array([[7.0354617e-01, 5.1285541e-01, 7.9868592e-02, ..., 3.2474209e-02,\n",
       "         8.1615396e-02, 3.9822617e-01],\n",
       "        [7.0675045e-01, 5.2577031e-01, 8.3736800e-02, ..., 1.0067362e-01,\n",
       "         4.9753819e-02, 3.4931409e-01],\n",
       "        [1.0588342e+00, 6.6746324e-01, 4.7851020e-01, ..., 2.0431790e+00,\n",
       "         1.9441687e+00, 2.0589573e+00],\n",
       "        ...,\n",
       "        [1.5330678e-03, 6.1416789e-04, 4.3087400e-04, ..., 1.0890959e-04,\n",
       "         3.8655367e-04, 2.8931163e-03],\n",
       "        [1.5654500e-03, 7.4940198e-04, 1.3547839e-04, ..., 2.5298636e-04,\n",
       "         3.2574849e-04, 2.7968064e-03],\n",
       "        [1.7182257e-03, 1.1569421e-03, 3.9753632e-04, ..., 2.7089397e-04,\n",
       "         1.2986302e-04, 2.5919976e-03]], dtype=float32),\n",
       " array([[-1.        +0.j        , -1.        +0.j        ,\n",
       "         -1.        +0.j        , ..., -1.        +0.j        ,\n",
       "         -1.        +0.j        , -1.        +0.j        ],\n",
       "        [ 0.908628  -0.41760644j,  0.14034913+0.9901021j ,\n",
       "          0.87006754-0.49293262j, ...,  0.5488626 -0.83591264j,\n",
       "          0.80037856+0.599495j  , -0.37375942-0.9275257j ],\n",
       "        [-0.62141114+0.7834846j ,  0.70975626-0.7044474j ,\n",
       "         -0.85690475+0.5154749j , ..., -0.8631743 -0.504906j  ,\n",
       "         -0.5464699 +0.8374788j ,  0.923715  +0.38308045j],\n",
       "        ...,\n",
       "        [ 0.9985699 -0.05346311j, -0.89047205+0.4550381j ,\n",
       "         -0.92532605-0.37917233j, ..., -0.91734856-0.39808485j,\n",
       "          0.28322122-0.9590546j , -0.48569903+0.8741261j ],\n",
       "        [-0.9976976 -0.0678205j , -0.45054287+0.8927548j ,\n",
       "         -0.78712857+0.6167889j , ..., -0.46356887+0.88606095j,\n",
       "          0.99560934+0.09360614j, -0.44706258-0.8945026j ],\n",
       "        [ 1.        +0.j        ,  1.        +0.j        ,\n",
       "          1.        +0.j        , ...,  1.        +0.j        ,\n",
       "          1.        +0.j        ,  1.        +0.j        ]],\n",
       "       dtype=complex64))"
      ]
     },
     "execution_count": 26,
     "metadata": {},
     "output_type": "execute_result"
    }
   ],
   "source": [
    "magnitude, phase "
   ]
  },
  {
   "cell_type": "code",
   "execution_count": 27,
   "metadata": {},
   "outputs": [],
   "source": [
    "# Create a dictionary of Fourier basis functions\n",
    "n_basis = 100  # Number of basis functions\n",
    "frequencies = np.linspace(20, 2000, n_basis)  \n",
    "time = np.arange(magnitude.shape[1])\n",
    "dictionary = np.array([np.cos(2 * np.pi * f * time / sr) for f in frequencies])\n"
   ]
  },
  {
   "cell_type": "code",
   "execution_count": 28,
   "metadata": {},
   "outputs": [
    {
     "data": {
      "text/plain": [
       "array([[ 1.        ,  0.99999594,  0.99998376, ...,  0.34402761,\n",
       "         0.34135064,  0.33867089],\n",
       "       [ 1.        ,  0.99998376,  0.99993504, ..., -0.76329   ,\n",
       "        -0.76695948, -0.77060405],\n",
       "       [ 1.        ,  0.99996346,  0.99985385, ..., -0.86921329,\n",
       "        -0.86495486, -0.86063322],\n",
       "       ...,\n",
       "       [ 1.        ,  0.9612617 ,  0.8480481 , ...,  0.99026807,\n",
       "         0.91354546,  0.76604444],\n",
       "       [ 1.        ,  0.96047236,  0.84501431, ...,  0.21000165,\n",
       "        -0.0704671 , -0.34536505],\n",
       "       [ 1.        ,  0.95967523,  0.84195308, ..., -0.84577534,\n",
       "        -0.96165344, -0.99997463]])"
      ]
     },
     "execution_count": 28,
     "metadata": {},
     "output_type": "execute_result"
    }
   ],
   "source": [
    "dictionary"
   ]
  }
 ],
 "metadata": {
  "kernelspec": {
   "display_name": "env",
   "language": "python",
   "name": "python3"
  },
  "language_info": {
   "codemirror_mode": {
    "name": "ipython",
    "version": 3
   },
   "file_extension": ".py",
   "mimetype": "text/x-python",
   "name": "python",
   "nbconvert_exporter": "python",
   "pygments_lexer": "ipython3",
   "version": "3.10.6"
  }
 },
 "nbformat": 4,
 "nbformat_minor": 2
}
