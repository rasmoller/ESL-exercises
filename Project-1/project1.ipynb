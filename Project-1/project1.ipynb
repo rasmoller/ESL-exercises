{
 "cells": [
  {
   "cell_type": "markdown",
   "metadata": {},
   "source": [
    "# Project 1 - Interpretability\n",
    "\n"
   ]
  },
  {
   "cell_type": "markdown",
   "metadata": {},
   "source": [
    " https://www.kaggle.com/code/jacobmillet/cs-go-round-winner-prediction-xgb-87-acc\n",
    " "
   ]
  },
  {
   "cell_type": "markdown",
   "metadata": {},
   "source": [
    "## Imports"
   ]
  },
  {
   "cell_type": "code",
   "execution_count": 95,
   "metadata": {},
   "outputs": [],
   "source": [
    "from sklearn.model_selection import train_test_split\n",
    "from sklearn.ensemble import RandomForestClassifier\n",
    "from sklearn.preprocessing import OneHotEncoder\n",
    "from sklearn.compose import make_column_selector, make_column_transformer\n",
    "from sklearn.pipeline import Pipeline\n",
    "import numpy as np\n",
    "import pandas as pd\n",
    "import matplotlib as plt"
   ]
  },
  {
   "cell_type": "markdown",
   "metadata": {},
   "source": [
    "## Dataset import and feature set"
   ]
  },
  {
   "cell_type": "code",
   "execution_count": 96,
   "metadata": {},
   "outputs": [
    {
     "name": "stdout",
     "output_type": "stream",
     "text": [
      "(122409, 97)\n"
     ]
    }
   ],
   "source": [
    "dataset = pd.read_csv(\"./dataset/csgo_round_snapshots.csv\")\n",
    "# Drop row where column 't_players_alive' has the value 6\n",
    "dataset = dataset[dataset['t_players_alive'] != 6]\n",
    "\n",
    "\n",
    "print(dataset.shape)\n"
   ]
  },
  {
   "cell_type": "markdown",
   "metadata": {},
   "source": [
    "## Filter Data\n",
    "We want to simplify the data to some extend in order to increase the explainability because we have 96 columns which will be too much for any layman to understand and for the model to give a clear feature-explanation especially with a narrow tree depth. Knowledge of the game is utilised. The following list contains all the modifications made\n",
    "- remove columns t_score and ct_score to ensure i.i.d data. \n",
    "- group weapons according to type i.e. pistol, heavy (shotguns and machine guns), SMGs and riffles (assault riffles and sniper riffles)\n",
    "- Group all explosives\n"
   ]
  },
  {
   "cell_type": "code",
   "execution_count": 97,
   "metadata": {},
   "outputs": [
    {
     "name": "stdout",
     "output_type": "stream",
     "text": [
      "(122409, 25)\n"
     ]
    }
   ],
   "source": [
    "\n",
    "# remove columns t_score and ct_score to ensure i.i.d data. \n",
    "dataset = dataset.drop(\"ct_score\", axis=1)\n",
    "dataset = dataset.drop(\"t_score\", axis=1)\n",
    "\n",
    "# group all weapons\n",
    "\"\"\"\n",
    "+------------+----------+-------+---------+\n",
    "|   Pistol   |  Heavy   | SMGs  | Riffles |\n",
    "+------------+----------+-------+---------+\n",
    "|  cz75auto  |   mag7   | bizon |   ak47  |\n",
    "|    glock   |   negev  | mac10 |   aug   |\n",
    "| r8revolver |   nova   | mp5sd |   awp   |\n",
    "|   deagle   | sawedoff |  mp7  |  g3sg1  |\n",
    "| fiveseven  |  xm1014  |  mp9  | galilar |\n",
    "|    tec9    |   m249   | p90   |  m4a1s  |\n",
    "|    p2000   +----------+ ump45 |  m4a4   |\n",
    "|    p250    |          +-------+ scar20  |\n",
    "|    usps    |                  |  sg553  |\n",
    "|    elite   |                  |  ssg08  |\n",
    "+------------+                  |  famas  |\n",
    "                                +---------+\n",
    "\"\"\"\n",
    "dataset['t_pistol'] = dataset['t_weapon_cz75auto'] + dataset['t_weapon_glock'] + dataset['t_weapon_r8revolver'] + dataset['t_weapon_deagle'] + dataset['t_weapon_fiveseven'] + dataset['t_weapon_tec9'] + dataset['t_weapon_p2000'] + dataset['t_weapon_p250'] + dataset['t_weapon_usps'] + dataset['t_weapon_elite']\n",
    "dataset['ct_pistol'] = dataset['ct_weapon_cz75auto'] + dataset['ct_weapon_glock'] + dataset['ct_weapon_r8revolver'] + dataset['ct_weapon_deagle'] + dataset['ct_weapon_fiveseven'] + dataset['ct_weapon_tec9'] + dataset['ct_weapon_p2000'] + dataset['ct_weapon_p250'] + dataset['ct_weapon_usps'] + dataset['ct_weapon_elite']\n",
    "dataset['t_heavy'] = dataset['t_weapon_mag7'] + dataset['t_weapon_negev'] + dataset['t_weapon_nova'] + dataset['t_weapon_sawedoff'] + dataset['t_weapon_xm1014'] + dataset['t_weapon_m249']\n",
    "dataset['ct_heavy'] = dataset['ct_weapon_mag7'] + dataset['ct_weapon_negev'] + dataset['ct_weapon_nova'] + dataset['ct_weapon_sawedoff'] + dataset['ct_weapon_xm1014'] + dataset['ct_weapon_m249']\n",
    "dataset['t_smg'] = dataset['t_weapon_bizon'] + dataset['t_weapon_mac10'] + dataset['t_weapon_mp5sd'] + dataset['t_weapon_mp7'] + dataset['t_weapon_mp9'] + dataset['t_weapon_p90'] + dataset['t_weapon_ump45']\n",
    "dataset['ct_smg'] = dataset['ct_weapon_bizon'] + dataset['ct_weapon_mac10'] + dataset['ct_weapon_mp5sd'] + dataset['ct_weapon_mp7'] + dataset['ct_weapon_mp9'] + dataset['ct_weapon_p90'] + dataset['ct_weapon_ump45']\n",
    "dataset['t_riffle'] = dataset['t_weapon_ak47'] + dataset['t_weapon_aug'] + dataset['t_weapon_awp'] + dataset['t_weapon_g3sg1'] + dataset['t_weapon_galilar'] + dataset['t_weapon_m4a1s'] + dataset['t_weapon_m4a4'] + dataset['t_weapon_scar20'] + dataset['t_weapon_sg553'] + dataset['t_weapon_ssg08'] + dataset['t_weapon_famas']\n",
    "dataset['ct_riffle'] = dataset['ct_weapon_ak47'] + dataset['ct_weapon_aug'] + dataset['ct_weapon_awp'] + dataset['ct_weapon_g3sg1'] + dataset['ct_weapon_galilar'] + dataset['ct_weapon_m4a1s'] + dataset['ct_weapon_m4a4'] + dataset['ct_weapon_scar20'] + dataset['ct_weapon_sg553'] + dataset['ct_weapon_ssg08'] + dataset['ct_weapon_famas']\n",
    "dataset = dataset.drop(dataset.columns[dataset.columns.str.contains('weapon')], axis=1)\n",
    "\n",
    "# group all explosives\n",
    "# hegrenade, flashbang, smokegrenade, incendiarygrenade, molotovgrenade, decoygrenade\n",
    "dataset['t_explosives'] = dataset['t_grenade_hegrenade'] + dataset['t_grenade_flashbang'] + dataset['t_grenade_smokegrenade'] + dataset['t_grenade_incendiarygrenade'] + dataset['t_grenade_molotovgrenade']  + dataset['t_grenade_decoygrenade']\n",
    "dataset['ct_explosives'] = dataset['ct_grenade_hegrenade'] + dataset['ct_grenade_flashbang'] + dataset['ct_grenade_smokegrenade'] + dataset['ct_grenade_incendiarygrenade'] + dataset['ct_grenade_molotovgrenade']  + dataset['ct_grenade_decoygrenade']\n",
    "dataset = dataset.drop(dataset.columns[dataset.columns.str.contains('grenade')], axis=1)\n",
    "\n",
    "print(dataset.shape)\n"
   ]
  },
  {
   "cell_type": "markdown",
   "metadata": {},
   "source": [
    "# Overall Data Analysis\n",
    "We have a look at some parameters about the filtered data. Viewing the X.max() we find an error in the data where 6 Ts have been counted and therefore a total health of 600 and only 4 CTs with a total health of 400. In order to ensure correct samples this sample is dropped in the beginning."
   ]
  },
  {
   "cell_type": "code",
   "execution_count": 98,
   "metadata": {},
   "outputs": [
    {
     "name": "stdout",
     "output_type": "stream",
     "text": [
      "['time_left', 'map', 'bomb_planted', 'ct_health', 't_health', 'ct_armor', 't_armor', 'ct_money', 't_money', 'ct_helmets', 't_helmets', 'ct_defuse_kits', 'ct_players_alive', 't_players_alive', 'round_winner', 't_pistol', 'ct_pistol', 't_heavy', 'ct_heavy', 't_smg', 'ct_smg', 't_riffle', 'ct_riffle', 't_explosives', 'ct_explosives']\n",
      "time_left           10782\n",
      "map                     8\n",
      "bomb_planted            2\n",
      "ct_health             501\n",
      "t_health              501\n",
      "ct_armor              415\n",
      "t_armor               477\n",
      "ct_money             1360\n",
      "t_money              1399\n",
      "ct_helmets              6\n",
      "t_helmets               6\n",
      "ct_defuse_kits          6\n",
      "ct_players_alive        6\n",
      "t_players_alive         6\n",
      "round_winner            2\n",
      "t_pistol               11\n",
      "ct_pistol              11\n",
      "t_heavy                 2\n",
      "ct_heavy                4\n",
      "t_smg                   6\n",
      "ct_smg                  6\n",
      "t_riffle                6\n",
      "ct_riffle               6\n",
      "t_explosives           21\n",
      "ct_explosives          21\n",
      "dtype: int64\n",
      "time_left                175.0\n",
      "map                 de_vertigo\n",
      "bomb_planted              True\n",
      "ct_health                500.0\n",
      "t_health                 500.0\n",
      "ct_armor                 500.0\n",
      "t_armor                  500.0\n",
      "ct_money               80000.0\n",
      "t_money                80000.0\n",
      "ct_helmets                 5.0\n",
      "t_helmets                  5.0\n",
      "ct_defuse_kits             5.0\n",
      "ct_players_alive           5.0\n",
      "t_players_alive            5.0\n",
      "round_winner                 T\n",
      "t_pistol                  10.0\n",
      "ct_pistol                 10.0\n",
      "t_heavy                    1.0\n",
      "ct_heavy                   3.0\n",
      "t_smg                      5.0\n",
      "ct_smg                     5.0\n",
      "t_riffle                   5.0\n",
      "ct_riffle                  5.0\n",
      "t_explosives              20.0\n",
      "ct_explosives             20.0\n",
      "dtype: object\n",
      "time_left               0.01\n",
      "map                 de_cache\n",
      "bomb_planted           False\n",
      "ct_health                0.0\n",
      "t_health                 0.0\n",
      "ct_armor                 0.0\n",
      "t_armor                  0.0\n",
      "ct_money                 0.0\n",
      "t_money                  0.0\n",
      "ct_helmets               0.0\n",
      "t_helmets                0.0\n",
      "ct_defuse_kits           0.0\n",
      "ct_players_alive         0.0\n",
      "t_players_alive          0.0\n",
      "round_winner              CT\n",
      "t_pistol                 0.0\n",
      "ct_pistol                0.0\n",
      "t_heavy                  0.0\n",
      "ct_heavy                 0.0\n",
      "t_smg                    0.0\n",
      "ct_smg                   0.0\n",
      "t_riffle                 0.0\n",
      "ct_riffle                0.0\n",
      "t_explosives             0.0\n",
      "ct_explosives            0.0\n",
      "dtype: object\n",
      "(122409, 25)\n"
     ]
    }
   ],
   "source": [
    "# print column labels\n",
    "print(dataset.columns.to_list())\n",
    "\n",
    "# print number of unique values in each column\n",
    "print(dataset.nunique())\n",
    "\n",
    "# print max and min of each column\n",
    "print(dataset.max())\n",
    "print(dataset.min())\n",
    "\n",
    "print(dataset.shape)"
   ]
  },
  {
   "cell_type": "markdown",
   "metadata": {},
   "source": [
    "# Make ML Model\n",
    "We pick a training sample space and a test sample space. We categorise the data so that the model can actually be trained on it. This includes\n",
    "- split our 'map' category into categorial columns with one-hot encoding"
   ]
  },
  {
   "cell_type": "code",
   "execution_count": 99,
   "metadata": {},
   "outputs": [
    {
     "data": {
      "text/plain": [
       "0.845314925251205"
      ]
     },
     "execution_count": 99,
     "metadata": {},
     "output_type": "execute_result"
    }
   ],
   "source": [
    "\n",
    "# boolean CT win\n",
    "dataset['CT_WIN'] = (dataset['round_winner'] == 'CT').astype('uint8')\n",
    "dataset = dataset.drop(columns='round_winner')\n",
    "\n",
    "# target and features\n",
    "X = dataset.drop(columns='CT_WIN')\n",
    "y = dataset['CT_WIN']\n",
    "\n",
    "X['map'] = X['map'].astype(\"category\")\n",
    "categorical_features = X['map'].to_list()\n",
    "\n",
    "X_train, X_test, y_train, y_test = train_test_split(X, y, test_size=0.2, random_state=42)\n",
    "\n",
    "# Create a ColumnTransformer to apply One-Hot Encoding to the categorical feature\n",
    "preprocessor = make_column_transformer(\n",
    "    (\n",
    "        OneHotEncoder(sparse_output=False, handle_unknown=\"ignore\"),\n",
    "        make_column_selector(dtype_include=\"category\"),\n",
    "    ),\n",
    "    remainder=\"passthrough\",\n",
    ")\n",
    "\n",
    "# Create a Pipeline that first applies the preprocessor and then the classifier\n",
    "clf = Pipeline(steps=[\n",
    "    ('preprocessor', preprocessor),\n",
    "    ('classifier', RandomForestClassifier(random_state=42))\n",
    "])\n",
    "clf.fit(X_train, y_train)\n",
    "clf.score(X_test, y_test)"
   ]
  }
 ],
 "metadata": {
  "kernelspec": {
   "display_name": "venv",
   "language": "python",
   "name": "python3"
  },
  "language_info": {
   "codemirror_mode": {
    "name": "ipython",
    "version": 3
   },
   "file_extension": ".py",
   "mimetype": "text/x-python",
   "name": "python",
   "nbconvert_exporter": "python",
   "pygments_lexer": "ipython3",
   "version": "3.13.2"
  }
 },
 "nbformat": 4,
 "nbformat_minor": 2
}
