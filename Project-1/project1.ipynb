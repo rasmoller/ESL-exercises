{
 "cells": [
  {
   "cell_type": "markdown",
   "metadata": {},
   "source": [
    "# Project 1 - Interpretability\n",
    "\n"
   ]
  },
  {
   "cell_type": "markdown",
   "metadata": {},
   "source": [
    " https://www.kaggle.com/code/jacobmillet/cs-go-round-winner-prediction-xgb-87-acc\n",
    " "
   ]
  },
  {
   "cell_type": "markdown",
   "metadata": {},
   "source": [
    "## Imports"
   ]
  },
  {
   "cell_type": "code",
   "execution_count": null,
   "metadata": {},
   "outputs": [],
   "source": [
    "import sklearn as sk\n",
    "import numpy as np\n",
    "import pandas as pd\n",
    "import matplotlib as plt"
   ]
  },
  {
   "cell_type": "markdown",
   "metadata": {},
   "source": [
    "## Dataset import and feature set"
   ]
  },
  {
   "cell_type": "code",
   "execution_count": null,
   "metadata": {},
   "outputs": [
    {
     "name": "stdout",
     "output_type": "stream",
     "text": [
      "Index(['time_left', 'ct_score', 't_score', 'map', 'bomb_planted', 'ct_health',\n",
      "       't_health', 'ct_armor', 't_armor', 'ct_money', 't_money', 'ct_helmets',\n",
      "       't_helmets', 'ct_defuse_kits', 'ct_players_alive', 't_players_alive',\n",
      "       'ct_weapon_ak47', 't_weapon_ak47', 'ct_weapon_aug', 't_weapon_aug',\n",
      "       'ct_weapon_awp', 't_weapon_awp', 'ct_weapon_bizon', 't_weapon_bizon',\n",
      "       'ct_weapon_cz75auto', 't_weapon_cz75auto', 'ct_weapon_elite',\n",
      "       't_weapon_elite', 'ct_weapon_famas', 't_weapon_famas',\n",
      "       'ct_weapon_g3sg1', 't_weapon_g3sg1', 'ct_weapon_galilar',\n",
      "       't_weapon_galilar', 'ct_weapon_glock', 't_weapon_glock',\n",
      "       'ct_weapon_m249', 't_weapon_m249', 'ct_weapon_m4a1s', 't_weapon_m4a1s',\n",
      "       'ct_weapon_m4a4', 't_weapon_m4a4', 'ct_weapon_mac10', 't_weapon_mac10',\n",
      "       'ct_weapon_mag7', 't_weapon_mag7', 'ct_weapon_mp5sd', 't_weapon_mp5sd',\n",
      "       'ct_weapon_mp7', 't_weapon_mp7', 'ct_weapon_mp9', 't_weapon_mp9',\n",
      "       'ct_weapon_negev', 't_weapon_negev', 'ct_weapon_nova', 't_weapon_nova',\n",
      "       'ct_weapon_p90', 't_weapon_p90', 'ct_weapon_r8revolver',\n",
      "       't_weapon_r8revolver', 'ct_weapon_sawedoff', 't_weapon_sawedoff',\n",
      "       'ct_weapon_scar20', 't_weapon_scar20', 'ct_weapon_sg553',\n",
      "       't_weapon_sg553', 'ct_weapon_ssg08', 't_weapon_ssg08',\n",
      "       'ct_weapon_ump45', 't_weapon_ump45', 'ct_weapon_xm1014',\n",
      "       't_weapon_xm1014', 'ct_weapon_deagle', 't_weapon_deagle',\n",
      "       'ct_weapon_fiveseven', 't_weapon_fiveseven', 'ct_weapon_usps',\n",
      "       't_weapon_usps', 'ct_weapon_p250', 't_weapon_p250', 'ct_weapon_p2000',\n",
      "       't_weapon_p2000', 'ct_weapon_tec9', 't_weapon_tec9',\n",
      "       'ct_grenade_hegrenade', 't_grenade_hegrenade', 'ct_grenade_flashbang',\n",
      "       't_grenade_flashbang', 'ct_grenade_smokegrenade',\n",
      "       't_grenade_smokegrenade', 'ct_grenade_incendiarygrenade',\n",
      "       't_grenade_incendiarygrenade', 'ct_grenade_molotovgrenade',\n",
      "       't_grenade_molotovgrenade', 'ct_grenade_decoygrenade',\n",
      "       't_grenade_decoygrenade', 'round_winner'],\n",
      "      dtype='object')\n"
     ]
    }
   ],
   "source": [
    "dataset = pd.read_csv(\"./dataset/csgo_round_snapshots.csv\")\n",
    "features = dataset.columns\n",
    "\n",
    "y = dataset['round_winner']\n",
    "X = dataset.drop(['round_winner'], axis=1)\n",
    "\n",
    "cols_grenade = 'grenade'\n",
    "X = X.drop(X.columns[X.columns.str.contains(cols_grenade)], axis=1)\n",
    "\n",
    "# Possibly lower the amount of columns by combining some\n"
   ]
  }
 ],
 "metadata": {
  "kernelspec": {
   "display_name": ".venv",
   "language": "python",
   "name": "python3"
  },
  "language_info": {
   "codemirror_mode": {
    "name": "ipython",
    "version": 3
   },
   "file_extension": ".py",
   "mimetype": "text/x-python",
   "name": "python",
   "nbconvert_exporter": "python",
   "pygments_lexer": "ipython3",
   "version": "3.12.3"
  }
 },
 "nbformat": 4,
 "nbformat_minor": 2
}
